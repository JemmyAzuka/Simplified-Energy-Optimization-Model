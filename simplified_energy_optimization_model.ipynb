{
 "cells": [
  {
   "cell_type": "markdown",
   "id": "32ca6d8b-5247-47c5-b509-74e729310fb8",
   "metadata": {},
   "source": [
    "## Importing Necessary Libraries"
   ]
  },
  {
   "cell_type": "code",
   "execution_count": 1,
   "id": "0e8bbb70-d031-429f-b048-7b1944b41ca7",
   "metadata": {},
   "outputs": [],
   "source": [
    "import numpy as np\n",
    "import pandas as pd\n",
    "from datetime import datetime, timedelta\n",
    "from sklearn.preprocessing import StandardScaler\n",
    "from sklearn.ensemble import RandomForestRegressor\n",
    "from sklearn.metrics import mean_squared_error\n",
    "from sklearn.ensemble import GradientBoostingRegressor\n",
    "import tensorflow as tf\n",
    "from tensorflow import keras\n",
    "from sklearn.preprocessing import StandardScaler\n",
    "from sklearn.model_selection import train_test_split  # Import train_test_split function"
   ]
  },
  {
   "cell_type": "markdown",
   "id": "dc72dad8-a6fc-4b9b-9ba1-3eff4f03572b",
   "metadata": {
    "tags": []
   },
   "source": [
    "## Generating Synthetic Data "
   ]
  },
  {
   "cell_type": "code",
   "execution_count": 2,
   "id": "a9aff5c2-66fb-4c84-9f67-4983a6dd8d38",
   "metadata": {
    "tags": []
   },
   "outputs": [],
   "source": [
    "# Define time periods (one day)\n",
    "start_time = datetime(2023, 9, 23, 0, 0, 0)\n",
    "end_time = datetime(2023, 9, 23, 23, 59, 59)\n",
    "time_step = timedelta(minutes=15)\n",
    "\n",
    "# Generate timestamps\n",
    "timestamps = [start_time + i * time_step for i in range(int((end_time - start_time) / time_step))]\n",
    "\n",
    "# Generate synthetic data for temperature, lighting intensity, occupancy, and energy consumption\n",
    "num_samples = len(timestamps)\n",
    "temperature = np.random.uniform(18, 28, num_samples)  # Temperature in Celsius\n",
    "lighting_intensity = np.random.uniform(0, 1000, num_samples)  # Lighting intensity in lux\n",
    "occupancy = np.random.choice([0, 1], num_samples, p=[0.7, 0.3])  # 0 - No occupancy, 1 - Occupied\n",
    "\n",
    "# Calculate energy consumption based on temperature, lighting, and occupancy (simplified model)\n",
    "energy_consumption = (temperature * 2 + lighting_intensity * 0.01 + occupancy * 10 +\n",
    "                      np.random.normal(0, 5, num_samples))\n",
    "\n",
    "# Create a DataFrame\n",
    "data = pd.DataFrame({'Timestamp': timestamps, 'Temperature': temperature,\n",
    "                     'Lighting_Intensity': lighting_intensity, 'Occupancy': occupancy,\n",
    "                     'Energy_Consumption': energy_consumption})\n",
    "\n",
    "# Save the synthetic data to a CSV file\n",
    "data.to_csv('energy_data.csv', index=False)\n"
   ]
  },
  {
   "cell_type": "markdown",
   "id": "4252d6d6-2db0-4103-809b-59ae81d0ebcc",
   "metadata": {},
   "source": [
    "## Preprocessing the Generated Data"
   ]
  },
  {
   "cell_type": "code",
   "execution_count": 3,
   "id": "bf9923bf-e6dc-4006-98a9-7728f2f6eba8",
   "metadata": {
    "tags": []
   },
   "outputs": [],
   "source": [
    "# Loading synthetic data from the CSV file\n",
    "data = pd.read_csv('energy_data.csv')\n",
    "\n",
    "# Converting the 'Timestamp' column to datetime\n",
    "data['Timestamp'] = pd.to_datetime(data['Timestamp'])\n",
    "\n",
    "# Extracting time-of-day and day-of-week features from 'Timestamp' column\n",
    "data['Hour'] = data['Timestamp'].apply(lambda x: x.hour)\n",
    "data['DayOfWeek'] = data['Timestamp'].apply(lambda x: x.weekday())\n",
    "\n",
    "# Drop the original 'Timestamp' column as it's no longer needed\n",
    "data.drop(columns=['Timestamp'], inplace=True)\n",
    "\n"
   ]
  },
  {
   "cell_type": "code",
   "execution_count": 4,
   "id": "08780a23-2855-452d-a30d-33fbc8f0554f",
   "metadata": {
    "tags": []
   },
   "outputs": [
    {
     "data": {
      "text/html": [
       "<div>\n",
       "<style scoped>\n",
       "    .dataframe tbody tr th:only-of-type {\n",
       "        vertical-align: middle;\n",
       "    }\n",
       "\n",
       "    .dataframe tbody tr th {\n",
       "        vertical-align: top;\n",
       "    }\n",
       "\n",
       "    .dataframe thead th {\n",
       "        text-align: right;\n",
       "    }\n",
       "</style>\n",
       "<table border=\"1\" class=\"dataframe\">\n",
       "  <thead>\n",
       "    <tr style=\"text-align: right;\">\n",
       "      <th></th>\n",
       "      <th>Temperature</th>\n",
       "      <th>Lighting_Intensity</th>\n",
       "      <th>Occupancy</th>\n",
       "      <th>Energy_Consumption</th>\n",
       "      <th>Hour</th>\n",
       "      <th>DayOfWeek</th>\n",
       "    </tr>\n",
       "  </thead>\n",
       "  <tbody>\n",
       "    <tr>\n",
       "      <th>0</th>\n",
       "      <td>22.728262</td>\n",
       "      <td>176.658757</td>\n",
       "      <td>1</td>\n",
       "      <td>59.817487</td>\n",
       "      <td>0</td>\n",
       "      <td>5</td>\n",
       "    </tr>\n",
       "    <tr>\n",
       "      <th>1</th>\n",
       "      <td>20.393047</td>\n",
       "      <td>639.113223</td>\n",
       "      <td>0</td>\n",
       "      <td>55.153046</td>\n",
       "      <td>0</td>\n",
       "      <td>5</td>\n",
       "    </tr>\n",
       "    <tr>\n",
       "      <th>2</th>\n",
       "      <td>22.223302</td>\n",
       "      <td>169.765727</td>\n",
       "      <td>0</td>\n",
       "      <td>43.321596</td>\n",
       "      <td>0</td>\n",
       "      <td>5</td>\n",
       "    </tr>\n",
       "    <tr>\n",
       "      <th>3</th>\n",
       "      <td>26.036642</td>\n",
       "      <td>977.149702</td>\n",
       "      <td>1</td>\n",
       "      <td>69.798575</td>\n",
       "      <td>0</td>\n",
       "      <td>5</td>\n",
       "    </tr>\n",
       "    <tr>\n",
       "      <th>4</th>\n",
       "      <td>24.867193</td>\n",
       "      <td>131.744187</td>\n",
       "      <td>0</td>\n",
       "      <td>41.052564</td>\n",
       "      <td>1</td>\n",
       "      <td>5</td>\n",
       "    </tr>\n",
       "  </tbody>\n",
       "</table>\n",
       "</div>"
      ],
      "text/plain": [
       "   Temperature  Lighting_Intensity  Occupancy  Energy_Consumption  Hour  \\\n",
       "0    22.728262          176.658757          1           59.817487     0   \n",
       "1    20.393047          639.113223          0           55.153046     0   \n",
       "2    22.223302          169.765727          0           43.321596     0   \n",
       "3    26.036642          977.149702          1           69.798575     0   \n",
       "4    24.867193          131.744187          0           41.052564     1   \n",
       "\n",
       "   DayOfWeek  \n",
       "0          5  \n",
       "1          5  \n",
       "2          5  \n",
       "3          5  \n",
       "4          5  "
      ]
     },
     "execution_count": 4,
     "metadata": {},
     "output_type": "execute_result"
    }
   ],
   "source": [
    "data.head()"
   ]
  },
  {
   "cell_type": "code",
   "execution_count": 5,
   "id": "c32dda83-49ae-480c-be34-705114776db3",
   "metadata": {
    "tags": []
   },
   "outputs": [
    {
     "data": {
      "text/html": [
       "<div>\n",
       "<style scoped>\n",
       "    .dataframe tbody tr th:only-of-type {\n",
       "        vertical-align: middle;\n",
       "    }\n",
       "\n",
       "    .dataframe tbody tr th {\n",
       "        vertical-align: top;\n",
       "    }\n",
       "\n",
       "    .dataframe thead th {\n",
       "        text-align: right;\n",
       "    }\n",
       "</style>\n",
       "<table border=\"1\" class=\"dataframe\">\n",
       "  <thead>\n",
       "    <tr style=\"text-align: right;\">\n",
       "      <th></th>\n",
       "      <th>Temperature</th>\n",
       "      <th>Lighting_Intensity</th>\n",
       "      <th>Occupancy</th>\n",
       "      <th>Energy_Consumption</th>\n",
       "      <th>Hour</th>\n",
       "      <th>DayOfWeek</th>\n",
       "    </tr>\n",
       "  </thead>\n",
       "  <tbody>\n",
       "    <tr>\n",
       "      <th>90</th>\n",
       "      <td>25.648011</td>\n",
       "      <td>681.114458</td>\n",
       "      <td>0</td>\n",
       "      <td>64.134331</td>\n",
       "      <td>22</td>\n",
       "      <td>5</td>\n",
       "    </tr>\n",
       "    <tr>\n",
       "      <th>91</th>\n",
       "      <td>27.751920</td>\n",
       "      <td>0.245854</td>\n",
       "      <td>0</td>\n",
       "      <td>60.139873</td>\n",
       "      <td>22</td>\n",
       "      <td>5</td>\n",
       "    </tr>\n",
       "    <tr>\n",
       "      <th>92</th>\n",
       "      <td>21.031368</td>\n",
       "      <td>942.709911</td>\n",
       "      <td>1</td>\n",
       "      <td>69.589495</td>\n",
       "      <td>23</td>\n",
       "      <td>5</td>\n",
       "    </tr>\n",
       "    <tr>\n",
       "      <th>93</th>\n",
       "      <td>20.466279</td>\n",
       "      <td>22.545846</td>\n",
       "      <td>0</td>\n",
       "      <td>36.320134</td>\n",
       "      <td>23</td>\n",
       "      <td>5</td>\n",
       "    </tr>\n",
       "    <tr>\n",
       "      <th>94</th>\n",
       "      <td>18.586567</td>\n",
       "      <td>6.376175</td>\n",
       "      <td>0</td>\n",
       "      <td>32.195033</td>\n",
       "      <td>23</td>\n",
       "      <td>5</td>\n",
       "    </tr>\n",
       "  </tbody>\n",
       "</table>\n",
       "</div>"
      ],
      "text/plain": [
       "    Temperature  Lighting_Intensity  Occupancy  Energy_Consumption  Hour  \\\n",
       "90    25.648011          681.114458          0           64.134331    22   \n",
       "91    27.751920            0.245854          0           60.139873    22   \n",
       "92    21.031368          942.709911          1           69.589495    23   \n",
       "93    20.466279           22.545846          0           36.320134    23   \n",
       "94    18.586567            6.376175          0           32.195033    23   \n",
       "\n",
       "    DayOfWeek  \n",
       "90          5  \n",
       "91          5  \n",
       "92          5  \n",
       "93          5  \n",
       "94          5  "
      ]
     },
     "execution_count": 5,
     "metadata": {},
     "output_type": "execute_result"
    }
   ],
   "source": [
    "data.tail()"
   ]
  },
  {
   "cell_type": "code",
   "execution_count": 6,
   "id": "5f1afaf9-1490-4d95-b9d5-781e9942da1d",
   "metadata": {
    "tags": []
   },
   "outputs": [
    {
     "data": {
      "text/plain": [
       "(95, 6)"
      ]
     },
     "execution_count": 6,
     "metadata": {},
     "output_type": "execute_result"
    }
   ],
   "source": [
    "data.shape"
   ]
  },
  {
   "cell_type": "code",
   "execution_count": 7,
   "id": "268df3b6-48cc-4f50-b6be-b7358b465339",
   "metadata": {
    "tags": []
   },
   "outputs": [
    {
     "data": {
      "text/html": [
       "<div>\n",
       "<style scoped>\n",
       "    .dataframe tbody tr th:only-of-type {\n",
       "        vertical-align: middle;\n",
       "    }\n",
       "\n",
       "    .dataframe tbody tr th {\n",
       "        vertical-align: top;\n",
       "    }\n",
       "\n",
       "    .dataframe thead th {\n",
       "        text-align: right;\n",
       "    }\n",
       "</style>\n",
       "<table border=\"1\" class=\"dataframe\">\n",
       "  <thead>\n",
       "    <tr style=\"text-align: right;\">\n",
       "      <th></th>\n",
       "      <th>Temperature</th>\n",
       "      <th>Lighting_Intensity</th>\n",
       "      <th>Occupancy</th>\n",
       "      <th>Energy_Consumption</th>\n",
       "      <th>Hour</th>\n",
       "      <th>DayOfWeek</th>\n",
       "    </tr>\n",
       "  </thead>\n",
       "  <tbody>\n",
       "    <tr>\n",
       "      <th>count</th>\n",
       "      <td>95.000000</td>\n",
       "      <td>95.000000</td>\n",
       "      <td>95.000000</td>\n",
       "      <td>95.000000</td>\n",
       "      <td>95.000000</td>\n",
       "      <td>95.0</td>\n",
       "    </tr>\n",
       "    <tr>\n",
       "      <th>mean</th>\n",
       "      <td>23.151428</td>\n",
       "      <td>522.707044</td>\n",
       "      <td>0.242105</td>\n",
       "      <td>53.740555</td>\n",
       "      <td>11.378947</td>\n",
       "      <td>5.0</td>\n",
       "    </tr>\n",
       "    <tr>\n",
       "      <th>std</th>\n",
       "      <td>2.697454</td>\n",
       "      <td>276.418798</td>\n",
       "      <td>0.430630</td>\n",
       "      <td>9.167954</td>\n",
       "      <td>6.893072</td>\n",
       "      <td>0.0</td>\n",
       "    </tr>\n",
       "    <tr>\n",
       "      <th>min</th>\n",
       "      <td>18.040658</td>\n",
       "      <td>0.245854</td>\n",
       "      <td>0.000000</td>\n",
       "      <td>32.195033</td>\n",
       "      <td>0.000000</td>\n",
       "      <td>5.0</td>\n",
       "    </tr>\n",
       "    <tr>\n",
       "      <th>25%</th>\n",
       "      <td>21.224298</td>\n",
       "      <td>294.392777</td>\n",
       "      <td>0.000000</td>\n",
       "      <td>47.287301</td>\n",
       "      <td>5.500000</td>\n",
       "      <td>5.0</td>\n",
       "    </tr>\n",
       "    <tr>\n",
       "      <th>50%</th>\n",
       "      <td>23.420130</td>\n",
       "      <td>569.677009</td>\n",
       "      <td>0.000000</td>\n",
       "      <td>53.888769</td>\n",
       "      <td>11.000000</td>\n",
       "      <td>5.0</td>\n",
       "    </tr>\n",
       "    <tr>\n",
       "      <th>75%</th>\n",
       "      <td>25.251906</td>\n",
       "      <td>718.519990</td>\n",
       "      <td>0.000000</td>\n",
       "      <td>60.028278</td>\n",
       "      <td>17.000000</td>\n",
       "      <td>5.0</td>\n",
       "    </tr>\n",
       "    <tr>\n",
       "      <th>max</th>\n",
       "      <td>27.838620</td>\n",
       "      <td>983.855304</td>\n",
       "      <td>1.000000</td>\n",
       "      <td>76.305875</td>\n",
       "      <td>23.000000</td>\n",
       "      <td>5.0</td>\n",
       "    </tr>\n",
       "  </tbody>\n",
       "</table>\n",
       "</div>"
      ],
      "text/plain": [
       "       Temperature  Lighting_Intensity  Occupancy  Energy_Consumption  \\\n",
       "count    95.000000           95.000000  95.000000           95.000000   \n",
       "mean     23.151428          522.707044   0.242105           53.740555   \n",
       "std       2.697454          276.418798   0.430630            9.167954   \n",
       "min      18.040658            0.245854   0.000000           32.195033   \n",
       "25%      21.224298          294.392777   0.000000           47.287301   \n",
       "50%      23.420130          569.677009   0.000000           53.888769   \n",
       "75%      25.251906          718.519990   0.000000           60.028278   \n",
       "max      27.838620          983.855304   1.000000           76.305875   \n",
       "\n",
       "            Hour  DayOfWeek  \n",
       "count  95.000000       95.0  \n",
       "mean   11.378947        5.0  \n",
       "std     6.893072        0.0  \n",
       "min     0.000000        5.0  \n",
       "25%     5.500000        5.0  \n",
       "50%    11.000000        5.0  \n",
       "75%    17.000000        5.0  \n",
       "max    23.000000        5.0  "
      ]
     },
     "execution_count": 7,
     "metadata": {},
     "output_type": "execute_result"
    }
   ],
   "source": [
    "data.describe()"
   ]
  },
  {
   "cell_type": "markdown",
   "id": "523ceed4-38bc-4c76-a8e3-710dd5f79dd5",
   "metadata": {},
   "source": [
    "## Splitting The Data into Test and Train Data"
   ]
  },
  {
   "cell_type": "code",
   "execution_count": 8,
   "id": "aa9d582d-f2c1-4f31-97c4-f2adf0aab8ae",
   "metadata": {
    "tags": []
   },
   "outputs": [],
   "source": [
    "# Split the data into training and testing sets\n",
    "X = data.drop(columns=['Energy_Consumption'])\n",
    "y = data['Energy_Consumption']\n",
    "X_train, X_test, y_train, y_test = train_test_split(X, y, test_size=0.2, random_state=42)"
   ]
  },
  {
   "cell_type": "markdown",
   "id": "280cc51b-3543-408f-883d-15d1785ddca3",
   "metadata": {
    "tags": []
   },
   "source": [
    "## Scaling The Data using Standardization (Z-score Scaling)"
   ]
  },
  {
   "cell_type": "code",
   "execution_count": 9,
   "id": "dc0126e6-d5c4-473a-80b2-3e7a23832b76",
   "metadata": {
    "tags": []
   },
   "outputs": [],
   "source": [
    "# Initialize the StandardScaler\n",
    "scaler = StandardScaler()\n",
    "\n",
    "# Apply standardization to the features you want to normalize (e.g., 'Temperature' and 'Lighting_Intensity')\n",
    "data[['Temperature', 'Lighting_Intensity']] = scaler.fit_transform(data[['Temperature', 'Lighting_Intensity']])"
   ]
  },
  {
   "cell_type": "markdown",
   "id": "2b5838a5-1367-47fe-8570-61d13bbb1b74",
   "metadata": {},
   "source": [
    "## Building the Optimization Model"
   ]
  },
  {
   "cell_type": "markdown",
   "id": "428f882d-7910-4197-8843-e351400b0d8c",
   "metadata": {},
   "source": [
    "#### Using a Random Forest Regressor"
   ]
  },
  {
   "cell_type": "code",
   "execution_count": 10,
   "id": "82ad7ea0-bcf1-4ae0-9c1a-aaeab039d959",
   "metadata": {
    "tags": []
   },
   "outputs": [
    {
     "name": "stdout",
     "output_type": "stream",
     "text": [
      "Mean Squared Error: 35.21166188692909\n"
     ]
    }
   ],
   "source": [
    "# Initialize and train the Random Forest Regressor\n",
    "model = RandomForestRegressor(n_estimators=100, random_state=42)\n",
    "model.fit(X_train, y_train)\n",
    "\n",
    "# Make predictions\n",
    "y_pred = model.predict(X_test)\n",
    "\n",
    "# Evaluate the model\n",
    "mse = mean_squared_error(y_test, y_pred)\n",
    "print(f'Mean Squared Error: {mse}')"
   ]
  },
  {
   "cell_type": "markdown",
   "id": "2418a270-d458-4f58-a6f6-2f24519c0ff7",
   "metadata": {},
   "source": [
    "#### Using Gradient Boosting"
   ]
  },
  {
   "cell_type": "code",
   "execution_count": 11,
   "id": "ddee235a-2bfb-4284-8d8b-41a187ef8a8b",
   "metadata": {
    "tags": []
   },
   "outputs": [
    {
     "name": "stdout",
     "output_type": "stream",
     "text": [
      "Gradient Boosting Mean Squared Error: 36.78880685993483\n"
     ]
    }
   ],
   "source": [
    "# Initialize and train the Gradient Boosting Regressor\n",
    "gb_model = GradientBoostingRegressor(n_estimators=100, random_state=42)\n",
    "gb_model.fit(X_train, y_train)\n",
    "\n",
    "# Make predictions\n",
    "y_gb_pred = gb_model.predict(X_test)\n",
    "\n",
    "# Evaluate the Gradient Boosting model\n",
    "mse_gb = mean_squared_error(y_test, y_gb_pred)\n",
    "print(f'Gradient Boosting Mean Squared Error: {mse_gb}')"
   ]
  },
  {
   "cell_type": "markdown",
   "id": "2ebf0e05-a430-4e11-acc8-28e22a08da7a",
   "metadata": {},
   "source": [
    "#### Finetuning Gradient Boosting Model"
   ]
  },
  {
   "cell_type": "code",
   "execution_count": 12,
   "id": "92293dc9-1ed0-428d-982c-aabe43dc7c74",
   "metadata": {
    "tags": []
   },
   "outputs": [
    {
     "name": "stdout",
     "output_type": "stream",
     "text": [
      "Best Gradient Boosting Model Mean Squared Error: 37.21089443987587\n"
     ]
    }
   ],
   "source": [
    "from sklearn.model_selection import GridSearchCV\n",
    "\n",
    "param_grid = {\n",
    "    'n_estimators': [50, 100, 150],\n",
    "    'learning_rate': [0.01, 0.1, 0.2],\n",
    "    'max_depth': [3, 4, 5],\n",
    "    'min_samples_split': [2, 3, 4]\n",
    "}\n",
    "\n",
    "grid_search = GridSearchCV(GradientBoostingRegressor(random_state=42), param_grid, cv=5)\n",
    "grid_search.fit(X_train, y_train)\n",
    "\n",
    "best_gb_model = grid_search.best_estimator_\n",
    "y_best_gb_pred = best_gb_model.predict(X_test)\n",
    "mse_best_gb = mean_squared_error(y_test, y_best_gb_pred)\n",
    "print(f'Best Gradient Boosting Model Mean Squared Error: {mse_best_gb}')"
   ]
  },
  {
   "cell_type": "markdown",
   "id": "74c2937e-1aa7-426e-a4dd-56eff6e8fec1",
   "metadata": {
    "tags": []
   },
   "source": [
    "#### Using Neural Network"
   ]
  },
  {
   "cell_type": "code",
   "execution_count": 13,
   "id": "63a8cf0f-4d2a-46b0-bf21-ed41b1930419",
   "metadata": {
    "tags": []
   },
   "outputs": [
    {
     "name": "stdout",
     "output_type": "stream",
     "text": [
      "1/1 [==============================] - 0s 154ms/step\n",
      "Neural Network Mean Squared Error: 901.9161091654194\n"
     ]
    }
   ],
   "source": [
    "# Standardize the input data\n",
    "scaler = StandardScaler()\n",
    "X_train_scaled = scaler.fit_transform(X_train)\n",
    "X_test_scaled = scaler.transform(X_test)\n",
    "\n",
    "# Build a simple Neural Network model\n",
    "nn_model = keras.Sequential([\n",
    "    keras.layers.Input(shape=(X_train_scaled.shape[1],)),\n",
    "    keras.layers.Dense(64, activation='relu'),\n",
    "    keras.layers.Dense(32, activation='relu'),\n",
    "    keras.layers.Dense(1)  # Output layer\n",
    "])\n",
    "\n",
    "# Compile the model\n",
    "nn_model.compile(optimizer='adam', loss='mean_squared_error')\n",
    "\n",
    "# Train the Neural Network\n",
    "nn_model.fit(X_train_scaled, y_train, epochs=50, batch_size=32, verbose=0)\n",
    "\n",
    "# Make predictions\n",
    "y_nn_pred = nn_model.predict(X_test_scaled)\n",
    "\n",
    "# Evaluate the Neural Network model\n",
    "mse_nn = mean_squared_error(y_test, y_nn_pred)\n",
    "print(f'Neural Network Mean Squared Error: {mse_nn}')"
   ]
  },
  {
   "cell_type": "markdown",
   "id": "4be2923a-12a0-46ef-95c0-7fa6bcc901c5",
   "metadata": {
    "tags": []
   },
   "source": [
    "#### Using Linear Regression"
   ]
  },
  {
   "cell_type": "code",
   "execution_count": 14,
   "id": "36ed9fce-363a-46e9-bb7d-b30bc71f33f7",
   "metadata": {
    "tags": []
   },
   "outputs": [
    {
     "name": "stdout",
     "output_type": "stream",
     "text": [
      "Linear Regression Mean Squared Error: 25.828856801713016\n"
     ]
    }
   ],
   "source": [
    "from sklearn.linear_model import LinearRegression\n",
    "\n",
    "# Initialize and train the Linear Regression model\n",
    "lr_model = LinearRegression()\n",
    "lr_model.fit(X_train, y_train)\n",
    "\n",
    "# Make predictions\n",
    "y_lr_pred = lr_model.predict(X_test)\n",
    "\n",
    "# Evaluate the Linear Regression model\n",
    "mse_lr = mean_squared_error(y_test, y_lr_pred)\n",
    "print(f'Linear Regression Mean Squared Error: {mse_lr}')"
   ]
  },
  {
   "cell_type": "markdown",
   "id": "fdc78f6e-feea-4a13-9f35-f8320802e994",
   "metadata": {},
   "source": [
    "#### "
   ]
  },
  {
   "cell_type": "markdown",
   "id": "ce8b9fee-f5f2-4c61-9a03-37af18ff20a3",
   "metadata": {},
   "source": [
    "#### "
   ]
  },
  {
   "cell_type": "markdown",
   "id": "9c1533a5-4a38-46ae-8e96-cd07bfc9dea6",
   "metadata": {},
   "source": [
    "#### "
   ]
  }
 ],
 "metadata": {
  "kernelspec": {
   "display_name": "Python 3 (ipykernel)",
   "language": "python",
   "name": "python3"
  },
  "language_info": {
   "codemirror_mode": {
    "name": "ipython",
    "version": 3
   },
   "file_extension": ".py",
   "mimetype": "text/x-python",
   "name": "python",
   "nbconvert_exporter": "python",
   "pygments_lexer": "ipython3",
   "version": "3.11.4"
  }
 },
 "nbformat": 4,
 "nbformat_minor": 5
}
